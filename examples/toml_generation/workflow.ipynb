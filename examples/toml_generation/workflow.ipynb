{
 "cells": [
  {
   "cell_type": "markdown",
   "metadata": {},
   "source": [
    "# Workflow for Generating `.toml` Files \n",
    "\n",
    "The simplest way to generate a toml file for a pyRISM calculation is by using the acpype server, or the CLI tool, to rapidly patametrise molecules and the parmed and toml libraries to generate a `.toml` file. This process can be automated to batch create `.toml` files for large datasets."
   ]
  },
  {
   "cell_type": "markdown",
   "metadata": {},
   "source": [
    "The acpype CLI tool can be installed via conda using `conda install -c conda-forge acpype`. \n",
    "\n",
    "I would recommend creating a new environment first before doing this e.g. `conda create -n acpype_env`.\n",
    "\n",
    "Once installed, we can then parametrise files using the command `acpype -i <input_file>`.\n",
    "\n",
    "Take for example the included `002dime_5_CM5.mol2` file&mdash;which we will be using as a solute:\n",
    "```\n",
    "acpype -i 002dime_5_CM5.mol2\n",
    "```\n",
    "\n",
    "This generates a folder named `002dime_5_CM5.acpype` that contains the parameters we want in various different formats. We will use the parmed library to parse the parameters and the toml library to generate a toml file.\n",
    "\n",
    "You can technically pick any format you want (CHARMM, GROMACS, CNS or Amber)..."
   ]
  },
  {
   "cell_type": "code",
   "execution_count": 1,
   "metadata": {},
   "outputs": [],
   "source": [
    "import parmed as pmd\n",
    "import toml\n",
    "import os\n",
    "from tabulate import tabulate # for pretty and readable printing of data we're working with\n",
    "from math import sqrt\n",
    "import numpy as np\n",
    "import matplotlib.pyplot as plt\n",
    "import warnings\n",
    "warnings.filterwarnings('ignore')"
   ]
  },
  {
   "cell_type": "markdown",
   "metadata": {},
   "source": [
    "We're interested in extracting the charges, non-bonding parameters (Lennard-Jones $\\epsilon$ and $\\sigma$) and coordinates. Before we do any extracting, let's just check that we get the values we expect and what their units are."
   ]
  },
  {
   "cell_type": "code",
   "execution_count": 2,
   "metadata": {},
   "outputs": [
    {
     "name": "stdout",
     "output_type": "stream",
     "text": [
      "| Atom name   | Atom type   | Rmin                 | Sigma                | Epsilon                       | Charge                  | Coordinates            |\n",
      "|-------------|-------------|----------------------|----------------------|-------------------------------|-------------------------|------------------------|\n",
      "| C           | c3          | 1.9069000000076504 A | 3.397709531257257 A  | 0.1078000000751509 kcal/mol   | -0.09485000027438907 e  | [-1.534  0.593  0.096] |\n",
      "| C1          | c3          | 1.9069000000076504 A | 3.397709531257257 A  | 0.1078000000751509 kcal/mol   | -0.058699999999999995 e | [-0.31   1.509 -0.089] |\n",
      "| C2          | c3          | 1.9069000000076504 A | 3.397709531257257 A  | 0.1078000000751509 kcal/mol   | -0.09485000027438907 e  | [ 0.322  1.31  -1.48 ] |\n",
      "| C3          | c3          | 1.9069000000076504 A | 3.397709531257257 A  | 0.1078000000751509 kcal/mol   | -0.1804 e               | [0.715 1.394 1.072]    |\n",
      "| C4          | c           | 1.8606000000472946 A | 3.3152123100281 A    | 0.0987999999994569 kcal/mol   | 0.5710999983536655 e    | [1.39  0.03  1.244]    |\n",
      "| O           | o           | 1.7106999997504173 A | 3.048120873800651 A  | 0.14630000020251083 kcal/mol  | -0.5341 e               | [ 0.861 -0.853  1.922] |\n",
      "| C5          | c3          | 1.9069000000076504 A | 3.397709531257257 A  | 0.1078000000751509 kcal/mol   | -0.1804 e               | [ 2.744 -0.175  0.551] |\n",
      "| C6          | c3          | 1.9069000000076504 A | 3.397709531257257 A  | 0.1078000000751509 kcal/mol   | -0.058699999999999995 e | [ 3.17  -1.643  0.296] |\n",
      "| C7          | c3          | 1.9069000000076504 A | 3.397709531257257 A  | 0.1078000000751509 kcal/mol   | -0.09485000027438907 e  | [ 4.638 -1.7   -0.157] |\n",
      "| C8          | c3          | 1.9069000000076504 A | 3.397709531257257 A  | 0.1078000000751509 kcal/mol   | -0.09485000027438907 e  | [ 2.262 -2.349 -0.731] |\n",
      "| H           | hc          | 1.4592999996178027 A | 2.6001769980833958 A | 0.020800000056554118 kcal/mol | 0.037616999994512214 e  | [-1.265 -0.463  0.032] |\n",
      "| H1          | hc          | 1.4592999996178027 A | 2.6001769980833958 A | 0.020800000056554118 kcal/mol | 0.037616999994512214 e  | [-2.007  0.754  1.066] |\n",
      "| H2          | hc          | 1.4592999996178027 A | 2.6001769980833958 A | 0.020800000056554118 kcal/mol | 0.037616999994512214 e  | [-2.29   0.782 -0.667] |\n",
      "| H3          | hc          | 1.4592999996178027 A | 2.6001769980833958 A | 0.020800000056554118 kcal/mol | 0.0592 e                | [-0.684  2.536 -0.062] |\n",
      "| H4          | hc          | 1.4592999996178027 A | 2.6001769980833958 A | 0.020800000056554118 kcal/mol | 0.037616999994512214 e  | [-0.395  1.528 -2.273] |\n",
      "| H5          | hc          | 1.4592999996178027 A | 2.6001769980833958 A | 0.020800000056554118 kcal/mol | 0.037616999994512214 e  | [ 1.175  1.972 -1.627] |\n",
      "| H6          | hc          | 1.4592999996178027 A | 2.6001769980833958 A | 0.020800000056554118 kcal/mol | 0.037616999994512214 e  | [ 0.665  0.285 -1.628] |\n",
      "| H7          | hc          | 1.4592999996178027 A | 2.6001769980833958 A | 0.020800000056554118 kcal/mol | 0.06319999999999999 e   | [0.22  1.634 2.013]    |\n",
      "| H8          | hc          | 1.4592999996178027 A | 2.6001769980833958 A | 0.020800000056554118 kcal/mol | 0.06319999999999999 e   | [1.496 2.144 0.947]    |\n",
      "| H9          | hc          | 1.4592999996178027 A | 2.6001769980833958 A | 0.020800000056554118 kcal/mol | 0.06319999999999999 e   | [ 2.743  0.38  -0.386] |\n",
      "| H10         | hc          | 1.4592999996178027 A | 2.6001769980833958 A | 0.020800000056554118 kcal/mol | 0.06319999999999999 e   | [3.485 0.307 1.188]    |\n",
      "| H11         | hc          | 1.4592999996178027 A | 2.6001769980833958 A | 0.020800000056554118 kcal/mol | 0.0592 e                | [ 3.104 -2.194  1.239] |\n",
      "| H12         | hc          | 1.4592999996178027 A | 2.6001769980833958 A | 0.020800000056554118 kcal/mol | 0.037616999994512214 e  | [ 4.788 -1.171 -1.099] |\n",
      "| H13         | hc          | 1.4592999996178027 A | 2.6001769980833958 A | 0.020800000056554118 kcal/mol | 0.037616999994512214 e  | [ 5.3   -1.25   0.583] |\n",
      "| H14         | hc          | 1.4592999996178027 A | 2.6001769980833958 A | 0.020800000056554118 kcal/mol | 0.037616999994512214 e  | [ 4.97  -2.729 -0.301] |\n",
      "| H15         | hc          | 1.4592999996178027 A | 2.6001769980833958 A | 0.020800000056554118 kcal/mol | 0.037616999994512214 e  | [ 2.285 -1.845 -1.698] |\n",
      "| H16         | hc          | 1.4592999996178027 A | 2.6001769980833958 A | 0.020800000056554118 kcal/mol | 0.037616999994512214 e  | [ 2.575 -3.382 -0.891] |\n",
      "| H17         | hc          | 1.4592999996178027 A | 2.6001769980833958 A | 0.020800000056554118 kcal/mol | 0.037616999994512214 e  | [ 1.224 -2.38  -0.4  ] |\n"
     ]
    }
   ],
   "source": [
    "parm_mol = pmd.load_file('002dime_5_CM5.acpype/002dime_5_CM5_AC.prmtop', xyz='002dime_5_CM5.acpype/002dime_5_CM5_AC.inpcrd')\n",
    "atom_table = []\n",
    "for (atom, coord) in zip(parm_mol.atoms, parm_mol.coordinates):\n",
    "    atom_table.append([atom.name, atom.type, atom.urmin, atom.usigma, atom.uepsilon, atom.ucharge, coord])\n",
    "\n",
    "print(tabulate(atom_table, headers=[\"Atom name\",\n",
    "    \"Atom type\",\n",
    "    \"Rmin\",\n",
    "    \"Sigma\",\n",
    "    \"Epsilon\",\n",
    "    \"Charge\",\n",
    "    \"Coordinates\"],\n",
    "    tablefmt=\"github\"))"
   ]
  },
  {
   "cell_type": "markdown",
   "metadata": {},
   "source": [
    "As we can see in the table, the units for $\\sigma$ is Angstroms which is what we want.\n",
    "In the case of $\\epsilon$ however, we want to cast it into the form $\\frac{\\epsilon}{k_B}$ to make things easier for ourselves later down the line.\n",
    "\n",
    "We want to generate the `[solute]` section of our `.toml` file (we will come back to `[solvent]` later). The TOML library represents the structure of a file as a `dict` in Python. To get an idea of the structure, please look at the [wiki](https://github.com/2AUK/pyRISM/wiki#structure-of-an-input-file).\n",
    "\n",
    "In order to generate this `dict`, we will need to construct sub-`dicts` and then bring them altogether.\n",
    "Firstly we should define the density and the number of sites for the species we're looking at in a `dict` named `species_info`:"
   ]
  },
  {
   "cell_type": "code",
   "execution_count": 3,
   "metadata": {},
   "outputs": [],
   "source": [
    "species_info = {}\n",
    "species_info['dens'] = 0.0 # infinite dilution\n",
    "species_info['ns'] = len(parm_mol.atoms)"
   ]
  },
  {
   "cell_type": "markdown",
   "metadata": {},
   "source": [
    "Next we populate the force field parameters, charges and coordinates for each site. \n",
    "The name of the atom will act as the key for the `dict`.\n",
    "We want to make sure that each site is uniquely named in the `dict` - two atoms named the same in the `.prmtop` will overwrite each other in the `dict`. In order to do that, we can add a number to the key.\n",
    "Then we can generate the entries as such (remembering to convert $\\epsilon$ to $\\frac{\\epsilon}{k_B}$):"
   ]
  },
  {
   "cell_type": "code",
   "execution_count": 4,
   "metadata": {},
   "outputs": [],
   "source": [
    "for i, (atom, coord) in enumerate(zip(parm_mol.atoms, parm_mol.coordinates)):\n",
    "    species_info[atom.name + '-' + str(i)] = [[atom.epsilon / 1.987204259E-3, atom.sigma, atom.charge], coord]"
   ]
  },
  {
   "cell_type": "markdown",
   "metadata": {},
   "source": [
    "Next we place the `species_info` into a sub-heading under the `[solute]` header, named `[solute.002dime_5_CM5_AC]` (the name of our input file) as well as information on the number of species and the total number of sites across all species. This is as simple as placing `species_info` in another dict:"
   ]
  },
  {
   "cell_type": "code",
   "execution_count": 5,
   "metadata": {},
   "outputs": [
    {
     "name": "stdout",
     "output_type": "stream",
     "text": [
      "{'nspu': 1, 'nsu': 28, '002dime_5_CM5_AC': {'dens': 0.0, 'ns': 28, 'C-0': [[54.24706573917971, 3.397709531257257, -0.09485000027438907], array([-1.534,  0.593,  0.096])], 'C1-1': [[54.24706573917971, 3.397709531257257, -0.058699999999999995], array([-0.31 ,  1.509, -0.089])], 'C2-2': [[54.24706573917971, 3.397709531257257, -0.09485000027438907], array([ 0.322,  1.31 , -1.48 ])], 'C3-3': [[54.24706573917971, 3.397709531257257, -0.1804], array([0.715, 1.394, 1.072])], 'C4-4': [[49.71808990041869, 3.3152123100281, 0.5710999983536655], array([1.39 , 0.03 , 1.244])], 'O-5': [[73.62101783947054, 3.048120873800651, -0.5341], array([ 0.861, -0.853,  1.922])], 'C5-6': [[54.24706573917971, 3.397709531257257, -0.1804], array([ 2.744, -0.175,  0.551])], 'C6-7': [[54.24706573917971, 3.397709531257257, -0.058699999999999995], array([ 3.17 , -1.643,  0.296])], 'C7-8': [[54.24706573917971, 3.397709531257257, -0.09485000027438907], array([ 4.638, -1.7  , -0.157])], 'C8-9': [[54.24706573917971, 3.397709531257257, -0.09485000027438907], array([ 2.262, -2.349, -0.731])], 'H-10': [[10.46696632334166, 2.6001769980833958, 0.037616999994512214], array([-1.265, -0.463,  0.032])], 'H1-11': [[10.46696632334166, 2.6001769980833958, 0.037616999994512214], array([-2.007,  0.754,  1.066])], 'H2-12': [[10.46696632334166, 2.6001769980833958, 0.037616999994512214], array([-2.29 ,  0.782, -0.667])], 'H3-13': [[10.46696632334166, 2.6001769980833958, 0.0592], array([-0.684,  2.536, -0.062])], 'H4-14': [[10.46696632334166, 2.6001769980833958, 0.037616999994512214], array([-0.395,  1.528, -2.273])], 'H5-15': [[10.46696632334166, 2.6001769980833958, 0.037616999994512214], array([ 1.175,  1.972, -1.627])], 'H6-16': [[10.46696632334166, 2.6001769980833958, 0.037616999994512214], array([ 0.665,  0.285, -1.628])], 'H7-17': [[10.46696632334166, 2.6001769980833958, 0.06319999999999999], array([0.22 , 1.634, 2.013])], 'H8-18': [[10.46696632334166, 2.6001769980833958, 0.06319999999999999], array([1.496, 2.144, 0.947])], 'H9-19': [[10.46696632334166, 2.6001769980833958, 0.06319999999999999], array([ 2.743,  0.38 , -0.386])], 'H10-20': [[10.46696632334166, 2.6001769980833958, 0.06319999999999999], array([3.485, 0.307, 1.188])], 'H11-21': [[10.46696632334166, 2.6001769980833958, 0.0592], array([ 3.104, -2.194,  1.239])], 'H12-22': [[10.46696632334166, 2.6001769980833958, 0.037616999994512214], array([ 4.788, -1.171, -1.099])], 'H13-23': [[10.46696632334166, 2.6001769980833958, 0.037616999994512214], array([ 5.3  , -1.25 ,  0.583])], 'H14-24': [[10.46696632334166, 2.6001769980833958, 0.037616999994512214], array([ 4.97 , -2.729, -0.301])], 'H15-25': [[10.46696632334166, 2.6001769980833958, 0.037616999994512214], array([ 2.285, -1.845, -1.698])], 'H16-26': [[10.46696632334166, 2.6001769980833958, 0.037616999994512214], array([ 2.575, -3.382, -0.891])], 'H17-27': [[10.46696632334166, 2.6001769980833958, 0.037616999994512214], array([ 1.224, -2.38 , -0.4  ])]}}\n"
     ]
    }
   ],
   "source": [
    "species = {}\n",
    "species['nspu'] = 1 # only looking at one solute species at the moment\n",
    "species['nsu'] = species_info['ns'] # since we're only looking at one solute, the total number of sites is the same as the number of sites of our single solute\n",
    "\n",
    "# Add the species as a subheader\n",
    "name = os.path.basename(parm_mol.name).split('.')[0] # extracting the name of the file from the path given to Parmed earlier\n",
    "species[name] = species_info\n",
    "print(species)"
   ]
  },
  {
   "cell_type": "markdown",
   "metadata": {},
   "source": [
    "We have the solute information now stored in `species`.\n",
    "We still need to add the three other sections, `[system]`, `[params]` and `[solvent]`. Fortunately, the former two are quite small so we can actually just hand-write them in the correct TOML format and parse them into `dicts` directly using the toml library."
   ]
  },
  {
   "cell_type": "code",
   "execution_count": 6,
   "metadata": {},
   "outputs": [],
   "source": [
    "system = \"\"\"[system]\n",
    "temp = 298.15\n",
    "kT = 1.0 \n",
    "kU = 0.00198720414667 \n",
    "charge_coeff = 167101.0\n",
    "npts = 1024\n",
    "radius = 10.24\n",
    "lam = 1\n",
    "\"\"\"\n",
    "params=\"\"\"[params]\n",
    "potential = \"LJ\"\n",
    "closure = \"KH\"\n",
    "IE = \"DRISM\"\n",
    "solver = \"MDIIS\"\n",
    "picard_damping = 0.1\n",
    "mdiis_damping = 0.7\n",
    "depth = 12\n",
    "itermax = 10000\n",
    "tol = 1e-7\n",
    "diel = 78.4\n",
    "adbcor = 1.0\n",
    "\"\"\""
   ]
  },
  {
   "cell_type": "markdown",
   "metadata": {},
   "source": [
    "Note: at this point we set `kT` to 1 because we have already scaled our values for $\\epsilon$ by $k_B = 1.987204259\\times10^{-3}$. If we kept the values in units kcal/mol then we would need to set `kT = 1.987204259E-3` here.\n",
    "\n",
    "We can parse these now using the toml library:"
   ]
  },
  {
   "cell_type": "code",
   "execution_count": 7,
   "metadata": {},
   "outputs": [
    {
     "name": "stdout",
     "output_type": "stream",
     "text": [
      "{'system': {'temp': 298.15, 'kT': 1.0, 'kU': 0.00198720414667, 'charge_coeff': 167101.0, 'npts': 1024, 'radius': 10.24, 'lam': 1}}\n",
      "{'params': {'potential': 'LJ', 'closure': 'KH', 'IE': 'DRISM', 'solver': 'MDIIS', 'picard_damping': 0.1, 'mdiis_damping': 0.7, 'depth': 12, 'itermax': 10000, 'tol': 1e-07, 'diel': 78.4, 'adbcor': 1.0}}\n"
     ]
    }
   ],
   "source": [
    "system = toml.loads(system)\n",
    "params = toml.loads(params)\n",
    "\n",
    "print(system)\n",
    "print(params)"
   ]
  },
  {
   "cell_type": "markdown",
   "metadata": {},
   "source": [
    "The final section we need is `[solvent]`. We can hard-code this just like the system and params sections above.\n",
    "\n",
    "We can also read in `.mdl` file from AmberTools (used to define the solvent parameters for 3D-RISM calculations).\n",
    "Say we want to add the cSPC/E water model and Deng's NaCl parameters, we can use parmed to read those files too.\n",
    "\n",
    "Parmed reads a `.mdl` file is slightly different to reading a `.prmtop` file and as a result we have to approach this differently.\n",
    "We are exposed to the raw format of the `.mdl` file instead. We also need to account for the multiplicity defined by Amber `.mdl` files as well as the units.\n",
    "\n",
    "Amber `.mdl` files use Rmin/2 rather than $\\sigma$, but still in Angstroms. The converersion from Rmin to $\\sigma$ is given as: \n",
    "$$\\frac{R_\\text{min}}{2} = \\frac{2^{\\frac{1}{6}}\\sigma}{2}$$\n",
    "\n",
    "The easiest is to define a constant to multiply by `RMIN2_TO_SIGMA = 2 * 2 ** (-1.0 / 6.0)`.\n",
    "\n",
    "$\\epsilon$ is simply given in kcal/mol, so we can divide by $k_B = 1.987204259\\times10^{-3}$ again here.\n",
    "\n",
    "Finally, Amber defines the charge as $18.223e$. We simply need to divide by $18.223$."
   ]
  },
  {
   "cell_type": "code",
   "execution_count": 8,
   "metadata": {},
   "outputs": [
    {
     "name": "stdout",
     "output_type": "stream",
     "text": [
      "| Atom name   |   Sigma |   Epsilon |   Charge | Coordinates                |\n",
      "|-------------|---------|-----------|----------|----------------------------|\n",
      "| O0          | 3.16572 |    78.15  |  -0.8476 | [0.0, 0.0, 0.0]            |\n",
      "| H11         | 1.16572 |     7.815 |   0.4238 | [1.0, 0.0, 0.0]            |\n",
      "| H12         | 1.16572 |     7.815 |   0.4238 | [-0.333314, 0.942816, 0.0] |\n"
     ]
    }
   ],
   "source": [
    "solv_dat = pmd.load_file('cSPCE.mdl')\n",
    "na_dat = pmd.load_file('deng_95/Na+.mdl')\n",
    "cl_dat = pmd.load_file('deng_95/Cl-.mdl')\n",
    "\n",
    "solvent_table = []\n",
    "\n",
    "RMIN2_TO_SIGMA = 2 * 2 ** (-1.0 / 6.0)\n",
    "CHARGE_CONVERSION = 18.2223\n",
    "\n",
    "# Let's visualise the data\n",
    "for i in range(len(solv_dat.parm_data['ATMNAME'])):\n",
    "    for j in range(solv_dat.parm_data['MULTI'][i]):\n",
    "        row_dat = [solv_dat.parm_data['ATMNAME'][i] + str(i+j), solv_dat.parm_data['LJSIGMA'][i] * RMIN2_TO_SIGMA, solv_dat.parm_data['LJEPSILON'][i] / 1.987204259E-3, solv_dat.parm_data['CHG'][i] / CHARGE_CONVERSION]\n",
    "        x = solv_dat.parm_data['COORD'][(i+j) * 3]\n",
    "        y = solv_dat.parm_data['COORD'][((i+j) * 3) + 1]\n",
    "        z = solv_dat.parm_data['COORD'][((i+j) * 3) + 2]\n",
    "        row_dat.append([x, y, z])\n",
    "        solvent_table.append(row_dat)\n",
    "print(tabulate(solvent_table, headers=[\"Atom name\",\n",
    "    \"Sigma\",\n",
    "    \"Epsilon\",\n",
    "    \"Charge\",\n",
    "    \"Coordinates\"],\n",
    "    tablefmt=\"github\"))"
   ]
  },
  {
   "cell_type": "markdown",
   "metadata": {},
   "source": [
    "We can approach the Na+ and Cl- files in a similar manner (ideally you'd put all this functionality into one function you call multiple times):"
   ]
  },
  {
   "cell_type": "code",
   "execution_count": 9,
   "metadata": {},
   "outputs": [
    {
     "name": "stdout",
     "output_type": "stream",
     "text": [
      "| Atom name   |   Sigma |   Epsilon |   Charge | Coordinates                |\n",
      "|-------------|---------|-----------|----------|----------------------------|\n",
      "| O0          | 3.16572 |    78.15  |  -0.8476 | [0.0, 0.0, 0.0]            |\n",
      "| H11         | 1.16572 |     7.815 |   0.4238 | [1.0, 0.0, 0.0]            |\n",
      "| H12         | 1.16572 |     7.815 |   0.4238 | [-0.333314, 0.942816, 0.0] |\n",
      "| Na+0        | 2.30208 |    50.322 |   1      | [0.0, 0.0, 0.0]            |\n",
      "| Cl-0        | 3.92085 |    50.322 |  -1      | [0. 0. 0.]                 |\n"
     ]
    }
   ],
   "source": [
    "for i in range(len(na_dat.parm_data['ATMNAME'])):\n",
    "    for j in range(na_dat.parm_data['MULTI'][i]):\n",
    "        row_dat = [na_dat.parm_data['ATMNAME'][i] + str(i+j), na_dat.parm_data['LJSIGMA'][i] * RMIN2_TO_SIGMA, na_dat.parm_data['LJEPSILON'][i] / 1.987204259E-3, na_dat.parm_data['CHG'][i] / CHARGE_CONVERSION]\n",
    "        x = na_dat.parm_data['COORD'][(i+j) * 3]\n",
    "        y = na_dat.parm_data['COORD'][((i+j) * 3) + 1]\n",
    "        z = na_dat.parm_data['COORD'][((i+j) * 3) + 2]\n",
    "        row_dat.append([x, y, z])\n",
    "        solvent_table.append(row_dat)\n",
    "\n",
    "for i in range(len(cl_dat.parm_data['ATMNAME'])):\n",
    "    for j in range(cl_dat.parm_data['MULTI'][i]):\n",
    "        row_dat = [cl_dat.parm_data['ATMNAME'][i] + str(i+j), cl_dat.parm_data['LJSIGMA'][i] * RMIN2_TO_SIGMA, cl_dat.parm_data['LJEPSILON'][i] / 1.987204259E-3, cl_dat.parm_data['CHG'][i] / CHARGE_CONVERSION]\n",
    "        x = cl_dat.parm_data['COORD'][(i+j) * 3]\n",
    "        y = cl_dat.parm_data['COORD'][((i+j) * 3) + 1]\n",
    "        z = cl_dat.parm_data['COORD'][((i+j) * 3) + 2]\n",
    "        row_dat.append(np.asarray([x, y, z]))\n",
    "        solvent_table.append(row_dat)\n",
    "\n",
    "print(tabulate(solvent_table, headers=[\"Atom name\",\n",
    "    \"Sigma\",\n",
    "    \"Epsilon\",\n",
    "    \"Charge\",\n",
    "    \"Coordinates\"],\n",
    "    tablefmt=\"github\"))"
   ]
  },
  {
   "cell_type": "markdown",
   "metadata": {},
   "source": [
    "We have three sets of parameter data that we need to construct `dicts` for, and then populate the `[solvent]` header with those dicts.\n",
    "We can set up the overaching `dict` that contains all the solvent species information and populate that `dict`.\n",
    "\n",
    "We also need to supply density information, which we do in a separate list that we loop over."
   ]
  },
  {
   "cell_type": "code",
   "execution_count": 10,
   "metadata": {},
   "outputs": [
    {
     "name": "stdout",
     "output_type": "stream",
     "text": [
      "{'cSPCE': {'ns': 3, 'dens': 0.033272748, 'O-0': [[78.14999353823345, 3.1657195050398816, -0.8476000010975563], array([0., 0., 0.])], 'H1-1': [[7.814999353823345, 1.1657195055911216, 0.4238], array([1., 0., 0.])], 'H1-2': [[7.814999353823345, 1.1657195055911216, 0.4238], array([-0.333314,  0.942816,  0.      ])]}, 'Na+': {'ns': 1, 'dens': 6.022e-05, 'Na+-0': [[50.32195334078136, 2.302082287674637, 1.0], array([0., 0., 0.])]}, 'Cl-': {'ns': 1, 'dens': 6.022e-05, 'Cl--0': [[50.32195334078136, 3.920845258535633, -1.0], array([0., 0., 0.])]}, 'nsv': 5, 'nspv': 3}\n"
     ]
    }
   ],
   "source": [
    "solv_species = {}\n",
    "pmd_dat = [solv_dat, na_dat, cl_dat]\n",
    "pmd_dens = [3.3272748E-2, 0.06022E-3, 0.06022E-3]\n",
    "total = 0\n",
    "for solv_dat, dens in zip(pmd_dat, pmd_dens):\n",
    "    solv_dict = {}\n",
    "    count = 0\n",
    "    solv_dict['ns'] = 0.0\n",
    "    solv_dict['dens'] = dens\n",
    "    for i in range(len(solv_dat.parm_data['ATMNAME'])):\n",
    "        for j in range(solv_dat.parm_data['MULTI'][i]):\n",
    "            count += 1\n",
    "            name = solv_dat.parm_data['ATMNAME'][i] + '-' + str(i+j)\n",
    "            sigma = solv_dat.parm_data['LJSIGMA'][i] * RMIN2_TO_SIGMA\n",
    "            epsilon = solv_dat.parm_data['LJEPSILON'][i] / 1.987204259E-3\n",
    "            charge = solv_dat.parm_data['CHG'][i] / CHARGE_CONVERSION\n",
    "            x = float(solv_dat.parm_data['COORD'][(i+j) * 3])\n",
    "            y = float(solv_dat.parm_data['COORD'][((i+j) * 3) + 1])\n",
    "            z = float(solv_dat.parm_data['COORD'][((i+j) * 3) + 2])\n",
    "            coord_array = np.asarray([x, y, z], dtype=float)\n",
    "            solv_dict[name] = [[epsilon, sigma, charge], coord_array]\n",
    "    solv_dict['ns'] = count \n",
    "    name = str(os.path.basename(solv_dat.name).split('.')[0]) # extracting the name of the file from the path given to Parmed earlier\n",
    "    solv_species[name] = solv_dict\n",
    "    total += count\n",
    "solv_species['nsv'] = total\n",
    "solv_species['nspv'] = len(pmd_dat)\n",
    "print(solv_species)"
   ]
  },
  {
   "cell_type": "markdown",
   "metadata": {},
   "source": [
    "Now that we have all the required sections, we can put the `dict`s together and build the input file"
   ]
  },
  {
   "cell_type": "code",
   "execution_count": 11,
   "metadata": {},
   "outputs": [
    {
     "name": "stdout",
     "output_type": "stream",
     "text": [
      "[system]\n",
      "temp = 298.15\n",
      "kT = 1.0\n",
      "kU = 0.00198720414667\n",
      "charge_coeff = 167101.0\n",
      "npts = 1024\n",
      "radius = 10.24\n",
      "lam = 1\n",
      "\n",
      "[params]\n",
      "potential = \"LJ\"\n",
      "closure = \"KH\"\n",
      "IE = \"DRISM\"\n",
      "solver = \"MDIIS\"\n",
      "picard_damping = 0.1\n",
      "mdiis_damping = 0.7\n",
      "depth = 12\n",
      "itermax = 10000\n",
      "tol = 1e-7\n",
      "diel = 78.4\n",
      "adbcor = 1.0\n",
      "\n",
      "[solvent]\n",
      "nsv = 5\n",
      "nspv = 3\n",
      "\n",
      "[solute]\n",
      "nspu = 1\n",
      "nsu = 28\n",
      "\n",
      "[solvent.cSPCE]\n",
      "ns = 3\n",
      "dens = 0.033272748\n",
      "O-0 = [ [ 78.14999353823345, 3.1657195050398816, -0.8476000010975563,], [ 0.0, 0.0, 0.0,],]\n",
      "H1-1 = [ [ 7.814999353823345, 1.1657195055911216, 0.4238,], [ 1.0, 0.0, 0.0,],]\n",
      "H1-2 = [ [ 7.814999353823345, 1.1657195055911216, 0.4238,], [ -0.333314, 0.942816, 0.0,],]\n",
      "\n",
      "[solvent.\"Na+\"]\n",
      "ns = 1\n",
      "dens = 6.022e-5\n",
      "\"Na+-0\" = [ [ 50.32195334078136, 2.302082287674637, 1.0,], [ 0.0, 0.0, 0.0,],]\n",
      "\n",
      "[solvent.Cl-]\n",
      "ns = 1\n",
      "dens = 6.022e-5\n",
      "Cl--0 = [ [ 50.32195334078136, 3.920845258535633, -1.0,], [ 0.0, 0.0, 0.0,],]\n",
      "\n",
      "[solute.002dime_5_CM5_AC]\n",
      "dens = 0.0\n",
      "ns = 28\n",
      "C-0 = [ [ 54.24706573917971, 3.397709531257257, -0.09485000027438907,], [ -1.534, 0.593, 0.096,],]\n",
      "C1-1 = [ [ 54.24706573917971, 3.397709531257257, -0.058699999999999995,], [ -0.31, 1.509, -0.089,],]\n",
      "C2-2 = [ [ 54.24706573917971, 3.397709531257257, -0.09485000027438907,], [ 0.322, 1.31, -1.48,],]\n",
      "C3-3 = [ [ 54.24706573917971, 3.397709531257257, -0.1804,], [ 0.715, 1.394, 1.072,],]\n",
      "C4-4 = [ [ 49.71808990041869, 3.3152123100281, 0.5710999983536655,], [ 1.39, 0.03, 1.244,],]\n",
      "O-5 = [ [ 73.62101783947054, 3.048120873800651, -0.5341,], [ 0.861, -0.853, 1.922,],]\n",
      "C5-6 = [ [ 54.24706573917971, 3.397709531257257, -0.1804,], [ 2.744, -0.175, 0.551,],]\n",
      "C6-7 = [ [ 54.24706573917971, 3.397709531257257, -0.058699999999999995,], [ 3.17, -1.643, 0.296,],]\n",
      "C7-8 = [ [ 54.24706573917971, 3.397709531257257, -0.09485000027438907,], [ 4.638, -1.7, -0.157,],]\n",
      "C8-9 = [ [ 54.24706573917971, 3.397709531257257, -0.09485000027438907,], [ 2.262, -2.349, -0.731,],]\n",
      "H-10 = [ [ 10.46696632334166, 2.6001769980833958, 0.037616999994512214,], [ -1.265, -0.463, 0.032,],]\n",
      "H1-11 = [ [ 10.46696632334166, 2.6001769980833958, 0.037616999994512214,], [ -2.007, 0.754, 1.066,],]\n",
      "H2-12 = [ [ 10.46696632334166, 2.6001769980833958, 0.037616999994512214,], [ -2.29, 0.782, -0.667,],]\n",
      "H3-13 = [ [ 10.46696632334166, 2.6001769980833958, 0.0592,], [ -0.684, 2.536, -0.062,],]\n",
      "H4-14 = [ [ 10.46696632334166, 2.6001769980833958, 0.037616999994512214,], [ -0.395, 1.528, -2.273,],]\n",
      "H5-15 = [ [ 10.46696632334166, 2.6001769980833958, 0.037616999994512214,], [ 1.175, 1.972, -1.627,],]\n",
      "H6-16 = [ [ 10.46696632334166, 2.6001769980833958, 0.037616999994512214,], [ 0.665, 0.285, -1.628,],]\n",
      "H7-17 = [ [ 10.46696632334166, 2.6001769980833958, 0.06319999999999999,], [ 0.22, 1.634, 2.013,],]\n",
      "H8-18 = [ [ 10.46696632334166, 2.6001769980833958, 0.06319999999999999,], [ 1.496, 2.144, 0.947,],]\n",
      "H9-19 = [ [ 10.46696632334166, 2.6001769980833958, 0.06319999999999999,], [ 2.743, 0.38, -0.386,],]\n",
      "H10-20 = [ [ 10.46696632334166, 2.6001769980833958, 0.06319999999999999,], [ 3.485, 0.307, 1.188,],]\n",
      "H11-21 = [ [ 10.46696632334166, 2.6001769980833958, 0.0592,], [ 3.104, -2.194, 1.239,],]\n",
      "H12-22 = [ [ 10.46696632334166, 2.6001769980833958, 0.037616999994512214,], [ 4.788, -1.171, -1.099,],]\n",
      "H13-23 = [ [ 10.46696632334166, 2.6001769980833958, 0.037616999994512214,], [ 5.3, -1.25, 0.583,],]\n",
      "H14-24 = [ [ 10.46696632334166, 2.6001769980833958, 0.037616999994512214,], [ 4.97, -2.729, -0.301,],]\n",
      "H15-25 = [ [ 10.46696632334166, 2.6001769980833958, 0.037616999994512214,], [ 2.285, -1.845, -1.698,],]\n",
      "H16-26 = [ [ 10.46696632334166, 2.6001769980833958, 0.037616999994512214,], [ 2.575, -3.382, -0.891,],]\n",
      "H17-27 = [ [ 10.46696632334166, 2.6001769980833958, 0.037616999994512214,], [ 1.224, -2.38, -0.4,],]\n",
      "\n"
     ]
    }
   ],
   "source": [
    "solvent_header = {}\n",
    "solute_header = {}\n",
    "\n",
    "solvent_header[\"solvent\"] = solv_species\n",
    "solute_header[\"solute\"] = species\n",
    "\n",
    "final_toml_dict = system | params | solvent_header | solute_header\n",
    "\n",
    "print(toml.dumps(final_toml_dict, encoder=toml.TomlNumpyEncoder()))\n",
    "\n",
    "with open('final.toml', 'w') as f:\n",
    "    final_toml = toml.dump(final_toml_dict, f, encoder=toml.TomlNumpyEncoder())"
   ]
  },
  {
   "cell_type": "markdown",
   "metadata": {},
   "source": [
    "We can run this calculation in pyRISM now (this might take a few minutes):"
   ]
  },
  {
   "cell_type": "code",
   "execution_count": 12,
   "metadata": {},
   "outputs": [
    {
     "name": "stdout",
     "output_type": "stream",
     "text": [
      "\n",
      "             ____  ___ ____  __  __ \n",
      " _ __  _   _|  _ \\|_ _/ ___||  \\/  |\n",
      "| '_ \\| | | | |_) || |\\___ \\| |\\/| |\n",
      "| |_) | |_| |  _ < | | ___) | |  | |\n",
      "| .__/ \\__, |_| \\_\\___|____/|_|  |_|\n",
      "|_|    |___/                        \n",
      "\n",
      "\n",
      "22:43:06 \u001b[36mINFO \u001b[0m [librism::drivers::rism] Solute data found\n",
      "22:43:06 \u001b[33mWARN \u001b[0m [librism::drivers::rism] pyRISM only tested for infinite dilution; setting non-zero solute density may not work\n",
      "22:43:06 \u001b[36mINFO \u001b[0m [librism::drivers::rism] Starting solvent-solvent solver\n",
      "22:43:06 \u001b[36mINFO \u001b[0m [librism::drivers::rism] Lambda cycle: 1/1\n",
      "22:43:07 \u001b[36mINFO \u001b[0m [librism::solvers::adiis] MDIIS Restarting\n",
      "22:43:08 \u001b[36mINFO \u001b[0m [librism::drivers::rism] Finished! Iteration: 73 RMSE: 7.435365E-8 Time Elapsed: 1.130902534 s\n",
      "22:43:08 \u001b[36mINFO \u001b[0m [librism::drivers::rism] Total Solvent-Solvent Iterations: 73 Total Solver Time: 1.180168184 s\n",
      "22:43:08 \u001b[36mINFO \u001b[0m [librism::drivers::rism] Starting solute-solvent solver\n",
      "22:43:08 \u001b[36mINFO \u001b[0m [librism::drivers::rism] Lambda cycle: 1/1\n",
      "22:43:42 \u001b[36mINFO \u001b[0m [librism::drivers::rism] Finished! Iteration: 784 RMSE: 8.639735E-8 Time Elapsed: 34.707774756 s\n",
      "22:43:42 \u001b[36mINFO \u001b[0m [librism::drivers::rism] Total Solute-Solvent Iterations: 784 Total Solver Time: 35.889176183000004 s\n",
      "22:43:42 \u001b[36mINFO \u001b[0m [librism::drivers::rism] Total Iterations: 857 Total Job Time: 35.898338254 s\n"
     ]
    }
   ],
   "source": [
    "from pyrism.librism import Calculator\n",
    "\n",
    "solutions, thermodynamics, grid, diagnostics = Calculator(\"final.toml\", \"verbose\", False, \"none\").execute()"
   ]
  },
  {
   "cell_type": "markdown",
   "metadata": {},
   "source": [
    "Plot a solvent-solvent RDF (Oxygen-Oxygen)"
   ]
  },
  {
   "cell_type": "code",
   "execution_count": 19,
   "metadata": {
    "tags": []
   },
   "outputs": [
    {
     "data": {
      "image/png": "[encoded data removed]",
      "text/plain": [
       "<Figure size 640x480 with 1 Axes>"
      ]
     },
     "metadata": {},
     "output_type": "display_data"
    }
   ],
   "source": [
    "plt.plot(grid.rgrid, solutions.vv.correlations.gr[:, 0, 0])\n",
    "plt.show()"
   ]
  },
  {
   "cell_type": "markdown",
   "metadata": {
    "tags": []
   },
   "source": [
    "Plot a solute-solvent RDF (Carbon-Hydrogen_water)"
   ]
  },
  {
   "cell_type": "code",
   "execution_count": 23,
   "metadata": {
    "tags": []
   },
   "outputs": [
    {
     "data": {
      "image/png": "[encoded data removed]",
      "text/plain": [
       "<Figure size 640x480 with 1 Axes>"
      ]
     },
     "metadata": {},
     "output_type": "display_data"
    }
   ],
   "source": [
    "plt.plot(grid.rgrid, solutions.uv.correlations.gr[:, 0, 1])\n",
    "plt.show()"
   ]
  },
  {
   "cell_type": "code",
   "execution_count": null,
   "metadata": {},
   "outputs": [],
   "source": []
  }
 ],
 "metadata": {
  "kernelspec": {
   "display_name": "Python 3 (ipykernel)",
   "language": "python",
   "name": "python3"
  },
  "language_info": {
   "codemirror_mode": {
    "name": "ipython",
    "version": 3
   },
   "file_extension": ".py",
   "mimetype": "text/x-python",
   "name": "python",
   "nbconvert_exporter": "python",
   "pygments_lexer": "ipython3",
   "version": "3.10.13"
  },
  "vscode": {
   "interpreter": {
    "hash": "1f6f705891267eca2f828ecaebb059eb38c60a12e6efbfbc28b665f24d93a5d5"
   }
  }
 },
 "nbformat": 4,
 "nbformat_minor": 4
}
